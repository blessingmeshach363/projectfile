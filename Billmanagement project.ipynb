{
 "cells": [
  {
   "cell_type": "code",
   "execution_count": 1,
   "id": "a606d876-6aa2-4ec8-b26d-788dd118ae22",
   "metadata": {},
   "outputs": [
    {
     "name": "stdout",
     "output_type": "stream",
     "text": [
      "\n",
      "---welcome to BB cafe---\n",
      "\n",
      "-----MENU-----\n",
      "\n",
      "1. rice - ₹50\n",
      "2. dosa - ₹10\n"
     ]
    },
    {
     "name": "stdin",
     "output_type": "stream",
     "text": [
      "\n",
      "Enter the item number:  2\n",
      "\n",
      "Enter the quantity:  5\n"
     ]
    },
    {
     "name": "stdout",
     "output_type": "stream",
     "text": [
      "5 x dosa\n",
      "total: 50\n",
      "\n",
      "---- Thank you ----\n"
     ]
    }
   ],
   "source": [
    "class Billmanagement:\n",
    "    def __init__(self):\n",
    "       self.menu = {\n",
    "           1:[\"rice\",50],\n",
    "           2:[\"dosa\",10]}\n",
    "       self.total = 0\n",
    "        \n",
    "\n",
    "    def show_menu(self):\n",
    "        print(\"\\n---welcome to BB cafe---\")\n",
    "        print(\"\\n-----MENU-----\\n\")\n",
    "        for number, item in self.menu.items():\n",
    "            print(f\"{number}. {item[0]} - ₹{item[1]}\")\n",
    "\n",
    "    \n",
    "\n",
    "    def take_order(self):\n",
    "        self.show_menu()\n",
    "        choice = int(input(\"\\nEnter the item number: \"))\n",
    "        quantity = int(input(\"\\nEnter the quantity: \"))\n",
    "        if choice in self.menu:\n",
    "            price = self.menu[choice][1]\n",
    "            self.total += price * quantity\n",
    "            print(f\"{quantity} x {self.menu[choice][0]}\")\n",
    "        else:\n",
    "            print(\"invalid item number!\")\n",
    "            \n",
    "\n",
    "\n",
    "    def show_total(self):\n",
    "        print(f\"total: {self.total}\")\n",
    "        print(\"\\n---- Thank you ----\")\n",
    "a = Billmanagement()\n",
    "a.take_order()\n",
    "a.show_total()\n",
    "        "
   ]
  },
  {
   "cell_type": "code",
   "execution_count": null,
   "id": "1125b28f-5976-4340-af02-c073a3de2dfd",
   "metadata": {},
   "outputs": [],
   "source": []
  }
 ],
 "metadata": {
  "kernelspec": {
   "display_name": "Python 3 (ipykernel)",
   "language": "python",
   "name": "python3"
  },
  "language_info": {
   "codemirror_mode": {
    "name": "ipython",
    "version": 3
   },
   "file_extension": ".py",
   "mimetype": "text/x-python",
   "name": "python",
   "nbconvert_exporter": "python",
   "pygments_lexer": "ipython3",
   "version": "3.12.4"
  }
 },
 "nbformat": 4,
 "nbformat_minor": 5
}
